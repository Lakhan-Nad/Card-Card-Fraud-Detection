{
  "nbformat": 4,
  "nbformat_minor": 0,
  "metadata": {
    "colab": {
      "name": "Card detection.ipynb",
      "provenance": [],
      "collapsed_sections": []
    },
    "kernelspec": {
      "display_name": "Python 3",
      "name": "python3"
    },
    "language_info": {
      "name": "python"
    }
  },
  "cells": [
    {
      "cell_type": "code",
      "metadata": {
        "colab": {
          "base_uri": "https://localhost:8080/"
        },
        "id": "jd8QG5Xh5F93",
        "outputId": "b009fd80-5852-4fcf-be8b-f5a511ea1651"
      },
      "source": [
        "! pip install kaggle\n",
        "! mkdir ~/.kaggle\n",
        "! cp kaggle.json ~/.kaggle/\n",
        "! chmod 600 ~/.kaggle/kaggle.json"
      ],
      "execution_count": null,
      "outputs": [
        {
          "output_type": "stream",
          "name": "stdout",
          "text": [
            "Requirement already satisfied: kaggle in /usr/local/lib/python3.7/dist-packages (1.5.12)\n",
            "Requirement already satisfied: certifi in /usr/local/lib/python3.7/dist-packages (from kaggle) (2021.10.8)\n",
            "Requirement already satisfied: six>=1.10 in /usr/local/lib/python3.7/dist-packages (from kaggle) (1.15.0)\n",
            "Requirement already satisfied: python-slugify in /usr/local/lib/python3.7/dist-packages (from kaggle) (5.0.2)\n",
            "Requirement already satisfied: requests in /usr/local/lib/python3.7/dist-packages (from kaggle) (2.23.0)\n",
            "Requirement already satisfied: urllib3 in /usr/local/lib/python3.7/dist-packages (from kaggle) (1.24.3)\n",
            "Requirement already satisfied: python-dateutil in /usr/local/lib/python3.7/dist-packages (from kaggle) (2.8.2)\n",
            "Requirement already satisfied: tqdm in /usr/local/lib/python3.7/dist-packages (from kaggle) (4.62.3)\n",
            "Requirement already satisfied: text-unidecode>=1.3 in /usr/local/lib/python3.7/dist-packages (from python-slugify->kaggle) (1.3)\n",
            "Requirement already satisfied: chardet<4,>=3.0.2 in /usr/local/lib/python3.7/dist-packages (from requests->kaggle) (3.0.4)\n",
            "Requirement already satisfied: idna<3,>=2.5 in /usr/local/lib/python3.7/dist-packages (from requests->kaggle) (2.10)\n"
          ]
        }
      ]
    },
    {
      "cell_type": "code",
      "metadata": {
        "colab": {
          "base_uri": "https://localhost:8080/"
        },
        "id": "CD5A5HaL6HDO",
        "outputId": "a82150ce-23b6-4d54-d772-4d4072a4b82b"
      },
      "source": [
        "! kaggle datasets download -d mlg-ulb/creditcardfraud"
      ],
      "execution_count": null,
      "outputs": [
        {
          "output_type": "stream",
          "name": "stdout",
          "text": [
            "Downloading creditcardfraud.zip to /content\n",
            " 71% 47.0M/66.0M [00:00<00:00, 127MB/s]\n",
            "100% 66.0M/66.0M [00:00<00:00, 164MB/s]\n"
          ]
        }
      ]
    },
    {
      "cell_type": "code",
      "metadata": {
        "colab": {
          "base_uri": "https://localhost:8080/"
        },
        "id": "jkc8w_s56w_k",
        "outputId": "13f0907e-5c92-4997-f701-cee3e9d82484"
      },
      "source": [
        "! unzip creditcardfraud.zip"
      ],
      "execution_count": null,
      "outputs": [
        {
          "output_type": "stream",
          "name": "stdout",
          "text": [
            "Archive:  creditcardfraud.zip\n",
            "  inflating: creditcard.csv          \n"
          ]
        }
      ]
    },
    {
      "cell_type": "code",
      "metadata": {
        "id": "9yLIM0WayGFy"
      },
      "source": [
        "import pandas as pd\n",
        "from collections import Counter\n",
        "import itertools"
      ],
      "execution_count": null,
      "outputs": []
    },
    {
      "cell_type": "code",
      "metadata": {
        "id": "6WhKOB-nymdF"
      },
      "source": [
        "import numpy as np\n",
        "import matplotlib.pyplot as plt\n",
        "from collections import Counter\n",
        "\n",
        "from sklearn.preprocessing import StandardScaler\n",
        "from sklearn.model_selection import train_test_split\n",
        "from sklearn import datasets, linear_model\n",
        "from sklearn.ensemble import RandomForestClassifier\n",
        "from sklearn.tree import DecisionTreeClassifier\n",
        "from sklearn.metrics import accuracy_score, precision_score, confusion_matrix, recall_score, f1_score"
      ],
      "execution_count": null,
      "outputs": []
    },
    {
      "cell_type": "code",
      "metadata": {
        "colab": {
          "base_uri": "https://localhost:8080/"
        },
        "id": "2mZc79M7yS7-",
        "outputId": "32c8fe38-6c8f-428e-c99c-0f7c4cc3c9e7"
      },
      "source": [
        "dataframe = pd.read_csv(\"creditcard.csv\")\n",
        "cols = dataframe.columns.to_list()\n",
        "type(cols)\n",
        "# cols\n",
        "# dataframe.head(1)\n",
        "# dataframe[dataframe.Class == 1].head(2).to_numpy()"
      ],
      "execution_count": null,
      "outputs": [
        {
          "output_type": "execute_result",
          "data": {
            "text/plain": [
              "list"
            ]
          },
          "metadata": {},
          "execution_count": 6
        }
      ]
    },
    {
      "cell_type": "code",
      "metadata": {
        "colab": {
          "base_uri": "https://localhost:8080/"
        },
        "id": "jz_P7L9YyX8M",
        "outputId": "5fbe6e24-87d0-49e2-9fb4-1584e5a3ddab"
      },
      "source": [
        "dataframe.isnull().values.any()"
      ],
      "execution_count": null,
      "outputs": [
        {
          "output_type": "execute_result",
          "data": {
            "text/plain": [
              "False"
            ]
          },
          "metadata": {},
          "execution_count": 7
        }
      ]
    },
    {
      "cell_type": "code",
      "metadata": {
        "colab": {
          "base_uri": "https://localhost:8080/"
        },
        "id": "7PBOOrSt0H2Z",
        "outputId": "7e38b298-8ea0-4e5f-e3a7-a1f4b97d6d77"
      },
      "source": [
        "dataframe[\"Amount\"].describe()"
      ],
      "execution_count": null,
      "outputs": [
        {
          "output_type": "execute_result",
          "data": {
            "text/plain": [
              "count    284807.000000\n",
              "mean         88.349619\n",
              "std         250.120109\n",
              "min           0.000000\n",
              "25%           5.600000\n",
              "50%          22.000000\n",
              "75%          77.165000\n",
              "max       25691.160000\n",
              "Name: Amount, dtype: float64"
            ]
          },
          "metadata": {},
          "execution_count": 8
        }
      ]
    },
    {
      "cell_type": "code",
      "metadata": {
        "id": "NaipWwNMRXkp"
      },
      "source": [
        "def getDataDetails(dataframe):\n",
        "  non_fraud = len(dataframe[dataframe.Class == 0])\n",
        "  fraud = len(dataframe[dataframe.Class == 1])\n",
        "  fraud_percent = (fraud / (fraud + non_fraud)) * 100\n",
        "  print(\"Number of Genuine transactions: \", non_fraud)\n",
        "  print(\"Number of Fraud transactions: \", fraud)\n",
        "  print(\"Percentage of Fraud transactions: {:.4f}\".format(fraud_percent))\n",
        "  return {'non_fraud': non_fraud, 'fraud': fraud, 'fraud_percent': fraud_percent}"
      ],
      "execution_count": null,
      "outputs": []
    },
    {
      "cell_type": "code",
      "metadata": {
        "colab": {
          "base_uri": "https://localhost:8080/"
        },
        "id": "ZqGbp33VU_Cd",
        "outputId": "e19ae59f-b47b-4427-853e-f789438bfa91"
      },
      "source": [
        "details = getDataDetails(dataframe)"
      ],
      "execution_count": null,
      "outputs": [
        {
          "output_type": "stream",
          "name": "stdout",
          "text": [
            "Number of Genuine transactions:  284315\n",
            "Number of Fraud transactions:  492\n",
            "Percentage of Fraud transactions: 0.1727\n"
          ]
        }
      ]
    },
    {
      "cell_type": "code",
      "metadata": {
        "colab": {
          "base_uri": "https://localhost:8080/",
          "height": 295
        },
        "id": "VKPvYGpWVXjy",
        "outputId": "7e88dab3-dc82-42b9-8f02-0f42f6f2ed21"
      },
      "source": [
        "labels = [\"Genuine\", \"Fraud\"]\n",
        "count_classes = dataframe.value_counts(dataframe['Class'], sort= True)\n",
        "count_classes.plot(kind = \"bar\", rot = 0)\n",
        "plt.title(\"Visualization of Labels\")\n",
        "plt.ylabel(\"Count\")\n",
        "plt.xticks(range(2), labels)\n",
        "plt.show()"
      ],
      "execution_count": null,
      "outputs": [
        {
          "output_type": "display_data",
          "data": {
            "image/png": "[encoded data removed]",
            "text/plain": [
              "<Figure size 432x288 with 1 Axes>"
            ]
          },
          "metadata": {
            "needs_background": "light"
          }
        }
      ]
    },
    {
      "cell_type": "code",
      "metadata": {
        "id": "SAAPTFJG0crg",
        "colab": {
          "base_uri": "https://localhost:8080/"
        },
        "outputId": "2b70e0c4-365a-41cf-94c4-18a2d7bbdf46"
      },
      "source": [
        "from sklearn.preprocessing import StandardScaler\n",
        "scaler = StandardScaler()\n",
        "dataframe[\"NormalizedAmount\"] = scaler.fit_transform(dataframe[\"Amount\"].values.reshape(-1, 1))\n",
        "dataframe.drop([\"Amount\", \"Time\"], inplace= True, axis= 1)\n",
        "Y = dataframe[\"Class\"]\n",
        "X = dataframe.drop([\"Class\"], axis= 1)\n",
        "type(Y)"
      ],
      "execution_count": null,
      "outputs": [
        {
          "output_type": "execute_result",
          "data": {
            "text/plain": [
              "pandas.core.series.Series"
            ]
          },
          "metadata": {},
          "execution_count": 13
        }
      ]
    },
    {
      "cell_type": "code",
      "metadata": {
        "colab": {
          "base_uri": "https://localhost:8080/"
        },
        "id": "XZ-cRiyI0j7l",
        "outputId": "07d1468c-3afb-4334-c5eb-c10932865517"
      },
      "source": [
        "from sklearn.model_selection import train_test_split\n",
        "(train_X, test_X, train_Y, test_Y) = train_test_split(X, Y, test_size= 0.3, random_state= 42)\n",
        "print(\"Shape of train_X: \", train_X.shape)\n",
        "print(\"Shape of test_X: \", test_X.shape)"
      ],
      "execution_count": null,
      "outputs": [
        {
          "output_type": "stream",
          "name": "stdout",
          "text": [
            "Shape of train_X:  (199364, 29)\n",
            "Shape of test_X:  (85443, 29)\n"
          ]
        }
      ]
    },
    {
      "cell_type": "code",
      "metadata": {
        "id": "fG2ns7ND0lA4"
      },
      "source": [
        "from sklearn.ensemble import RandomForestClassifier\n",
        "from sklearn.tree import DecisionTreeClassifier\n",
        "from sklearn.linear_model import LogisticRegression\n",
        "\n",
        "# Logistic regression\n",
        "logistic_regression = linear_model.LogisticRegression(C=1e5, solver='lbfgs', max_iter=1000)\n",
        "\n",
        "# Decision Tree\n",
        "decision_tree = DecisionTreeClassifier()\n",
        "\n",
        "# Random Forest\n",
        "random_forest = RandomForestClassifier(n_estimators= 100)"
      ],
      "execution_count": null,
      "outputs": []
    },
    {
      "cell_type": "code",
      "metadata": {
        "colab": {
          "base_uri": "https://localhost:8080/"
        },
        "id": "Z6PkZdwo0rcg",
        "outputId": "d3df2c4b-e5a1-4fd5-f09d-8b4a327ef9b8"
      },
      "source": [
        "# Logistic regression\n",
        "logistic_regression.fit(train_X, train_Y)\n",
        "predictions_lr = logistic_regression.predict(test_X)\n",
        "linear_regression_score = logistic_regression.score(test_X, test_Y)*100\n",
        "print(\"Logistic regression Score: \", linear_regression_score)\n",
        "\n",
        "# Decision Tree\n",
        "decision_tree.fit(train_X, train_Y)\n",
        "predictions_dt = decision_tree.predict(test_X)\n",
        "decision_tree_score = decision_tree.score(test_X, test_Y) * 100\n",
        "print(\"Decision Tree Score: \", decision_tree_score)\n",
        "\n",
        "# Random Forest\n",
        "random_forest.fit(train_X, train_Y)\n",
        "predictions_rf = random_forest.predict(test_X)\n",
        "random_forest_score = random_forest.score(test_X, test_Y) * 100\n",
        "print(\"Random Forest Score: \", random_forest_score)"
      ],
      "execution_count": null,
      "outputs": [
        {
          "output_type": "stream",
          "name": "stdout",
          "text": [
            "Logistic regression Score:  99.92626663389628\n",
            "Decision Tree Score:  99.9133925541004\n",
            "Random Forest Score:  99.95903701883127\n"
          ]
        }
      ]
    },
    {
      "cell_type": "code",
      "metadata": {
        "id": "zAi0tpvl0xip"
      },
      "source": [
        "from sklearn.metrics import classification_report, accuracy_score, precision_score, confusion_matrix, recall_score, f1_score\n",
        "def metrics(actuals, predictions):\n",
        "    print(\"Accuracy: {:.5f}\".format(accuracy_score(actuals, predictions)))\n",
        "    print(\"Precision: {:.5f}\".format(precision_score(actuals, predictions)))\n",
        "    print(\"Recall: {:.5f}\".format(recall_score(actuals, predictions)))\n",
        "    print(\"F1-score: {:.5f}\".format(f1_score(actuals, predictions)))"
      ],
      "execution_count": null,
      "outputs": []
    },
    {
      "cell_type": "code",
      "metadata": {
        "id": "gNwRBUgMS8in"
      },
      "source": [
        "from sklearn.metrics import plot_confusion_matrix"
      ],
      "execution_count": null,
      "outputs": []
    },
    {
      "cell_type": "code",
      "metadata": {
        "colab": {
          "base_uri": "https://localhost:8080/"
        },
        "id": "UTb_M5oj03hW",
        "outputId": "1ec8fc54-3c8a-43c4-d5aa-cbbe6053d4e9"
      },
      "source": [
        "# Logistic regression\n",
        "confusion_matrix_lr = confusion_matrix(test_Y, predictions_lr)\n",
        "print(\"Confusion Matrix - Logistic regression\")\n",
        "print(confusion_matrix_lr)"
      ],
      "execution_count": null,
      "outputs": [
        {
          "output_type": "stream",
          "name": "stdout",
          "text": [
            "Confusion Matrix - Logistic regression\n",
            "[[85295    12]\n",
            " [   51    85]]\n"
          ]
        }
      ]
    },
    {
      "cell_type": "code",
      "metadata": {
        "colab": {
          "base_uri": "https://localhost:8080/"
        },
        "id": "FKTADJLH3iu4",
        "outputId": "5aae1920-075e-4254-f660-4234ff597088"
      },
      "source": [
        "print(\"Evaluation of Logistic Regression Model\")\n",
        "print()\n",
        "metrics(test_Y, predictions_lr.round())"
      ],
      "execution_count": null,
      "outputs": [
        {
          "output_type": "stream",
          "name": "stdout",
          "text": [
            "Evaluation of Logistic Regression Model\n",
            "\n",
            "Accuracy: 0.99926\n",
            "Precision: 0.87629\n",
            "Recall: 0.62500\n",
            "F1-score: 0.72961\n"
          ]
        }
      ]
    },
    {
      "cell_type": "code",
      "metadata": {
        "colab": {
          "base_uri": "https://localhost:8080/"
        },
        "id": "rrofjQGn0z2k",
        "outputId": "c5f36355-aee3-4ee7-b212-1402b946dd0a"
      },
      "source": [
        "confusion_matrix_dt = confusion_matrix(test_Y, predictions_dt.round())\n",
        "print(\"Confusion Matrix - Decision Tree\")\n",
        "print(confusion_matrix_dt)"
      ],
      "execution_count": null,
      "outputs": [
        {
          "output_type": "stream",
          "name": "stdout",
          "text": [
            "Confusion Matrix - Decision Tree\n",
            "[[85260    47]\n",
            " [   27   109]]\n"
          ]
        }
      ]
    },
    {
      "cell_type": "code",
      "metadata": {
        "colab": {
          "base_uri": "https://localhost:8080/"
        },
        "id": "GYe_d2IW02BH",
        "outputId": "49aae15b-067f-48cc-ffb8-9c6ea4fb59a4"
      },
      "source": [
        "print(\"Evaluation of Decision Tree Model\")\n",
        "print()\n",
        "metrics(test_Y, predictions_dt.round())"
      ],
      "execution_count": null,
      "outputs": [
        {
          "output_type": "stream",
          "name": "stdout",
          "text": [
            "Evaluation of Decision Tree Model\n",
            "\n",
            "Accuracy: 0.99913\n",
            "Precision: 0.69872\n",
            "Recall: 0.80147\n",
            "F1-score: 0.74658\n"
          ]
        }
      ]
    },
    {
      "cell_type": "code",
      "metadata": {
        "id": "E3mKjoab04s_",
        "colab": {
          "base_uri": "https://localhost:8080/"
        },
        "outputId": "da7acfaf-9063-4a78-961e-0ca030a69157"
      },
      "source": [
        "confusion_matrix_rf = confusion_matrix(test_Y, predictions_rf.round())\n",
        "print(\"Confusion Matrix - Random Forest\")\n",
        "print(confusion_matrix_rf)"
      ],
      "execution_count": null,
      "outputs": [
        {
          "output_type": "stream",
          "name": "stdout",
          "text": [
            "Confusion Matrix - Random Forest\n",
            "[[85300     7]\n",
            " [   28   108]]\n"
          ]
        }
      ]
    },
    {
      "cell_type": "code",
      "metadata": {
        "colab": {
          "base_uri": "https://localhost:8080/"
        },
        "id": "AsU9CHgz07bb",
        "outputId": "ab09aed4-187c-47be-d761-b2b2e397a41f"
      },
      "source": [
        "print(\"Evaluation of Random Forest Model\")\n",
        "print()\n",
        "metrics(test_Y, predictions_rf.round())"
      ],
      "execution_count": null,
      "outputs": [
        {
          "output_type": "stream",
          "name": "stdout",
          "text": [
            "Evaluation of Random Forest Model\n",
            "\n",
            "Accuracy: 0.99959\n",
            "Precision: 0.93913\n",
            "Recall: 0.79412\n",
            "F1-score: 0.86056\n"
          ]
        }
      ]
    },
    {
      "cell_type": "code",
      "metadata": {
        "colab": {
          "base_uri": "https://localhost:8080/"
        },
        "id": "x_-FzFuT0_Bq",
        "outputId": "991bf3be-c3d6-416c-8129-569926689ee9"
      },
      "source": [
        "from imblearn.over_sampling import SMOTE\n",
        "X_resampled, Y_resampled = SMOTE().fit_resample(X, Y)\n",
        "print(\"Resampled shape of X: \", X_resampled.shape)\n",
        "print(\"Resampled shape of Y: \", Y_resampled.shape)\n",
        "value_counts = Counter(Y_resampled)\n",
        "print(value_counts)\n",
        "(train_X2, test_X2, train_Y2, test_Y2) = train_test_split(X_resampled, Y_resampled, test_size= 0.3, random_state= 42)"
      ],
      "execution_count": null,
      "outputs": [
        {
          "output_type": "stream",
          "name": "stdout",
          "text": [
            "Resampled shape of X:  (568630, 29)\n",
            "Resampled shape of Y:  (568630,)\n",
            "Counter({0: 284315, 1: 284315})\n"
          ]
        }
      ]
    },
    {
      "cell_type": "code",
      "metadata": {
        "id": "qhsRBfkZ1AhO"
      },
      "source": [
        "rf_resampled = RandomForestClassifier(n_estimators = 100)\n",
        "rf_resampled.fit(train_X2, train_Y2)\n",
        "predictions_resampled = rf_resampled.predict(test_X2)\n",
        "random_forest_score_resampled = rf_resampled.score(test_X2, test_Y2) * 100"
      ],
      "execution_count": null,
      "outputs": []
    },
    {
      "cell_type": "code",
      "metadata": {
        "id": "87RXX_bS1C-k",
        "colab": {
          "base_uri": "https://localhost:8080/"
        },
        "outputId": "72e254a1-554b-44ff-e243-7d9ff2effd1d"
      },
      "source": [
        "cm_resampled = confusion_matrix(test_Y2, predictions_resampled.round())\n",
        "print(\"Confusion Matrix - Random Forest\")\n",
        "print(cm_resampled)\n",
        "# plot_confusion_matrix(cm_resampled, classes=[0, 1], title= \"Confusion Matrix - Random Forest After Oversampling\")"
      ],
      "execution_count": null,
      "outputs": [
        {
          "output_type": "stream",
          "name": "stdout",
          "text": [
            "Confusion Matrix - Random Forest\n",
            "[[85129    20]\n",
            " [    0 85440]]\n"
          ]
        }
      ]
    },
    {
      "cell_type": "code",
      "metadata": {
        "id": "akSYMJiR1MLT",
        "colab": {
          "base_uri": "https://localhost:8080/"
        },
        "outputId": "19cfc150-0f48-4f1c-e316-2ebeeeca1547"
      },
      "source": [
        "print(\"Evaluation of Random Forest Model\")\n",
        "print()\n",
        "metrics(test_Y2, predictions_resampled.round())"
      ],
      "execution_count": null,
      "outputs": [
        {
          "output_type": "stream",
          "name": "stdout",
          "text": [
            "Evaluation of Random Forest Model\n",
            "\n",
            "Accuracy: 0.99988\n",
            "Precision: 0.99977\n",
            "Recall: 1.00000\n",
            "F1-score: 0.99988\n"
          ]
        }
      ]
    },
    {
      "cell_type": "code",
      "metadata": {
        "id": "AVETyOwXVdO6",
        "colab": {
          "base_uri": "https://localhost:8080/",
          "height": 279
        },
        "outputId": "fa759dd9-3b07-479d-c4b1-f4b1b3ad451a"
      },
      "source": [
        "## Comparison Plotting\n",
        "\n",
        "accuracy_data = {\n",
        "                  \"Resampled RF\": accuracy_score(test_Y2, predictions_resampled.round()),\n",
        "                  \"Random Forest\": accuracy_score(test_Y, predictions_rf.round()),\n",
        "                  \"Decision Tree\": accuracy_score(test_Y, predictions_dt.round()),\n",
        "                  \"Logistic Regression\": accuracy_score(test_Y, predictions_lr.round())\n",
        "                }\n",
        "model_names = list(accuracy_data.keys())\n",
        "model_accuracy_values = list(accuracy_data.values())\n",
        "\n",
        "plt.bar(model_names, model_accuracy_values, width=0.4, color=\"orange\")\n",
        "plt.xlabel(\"Models Evaluated\")\n",
        "plt.ylabel(\"Accuracy Scores of Models\")\n",
        "plt.show()"
      ],
      "execution_count": null,
      "outputs": [
        {
          "output_type": "display_data",
          "data": {
            "image/png": "[encoded data removed]",
            "text/plain": [
              "<Figure size 432x288 with 1 Axes>"
            ]
          },
          "metadata": {
            "needs_background": "light"
          }
        }
      ]
    }
  ]
}